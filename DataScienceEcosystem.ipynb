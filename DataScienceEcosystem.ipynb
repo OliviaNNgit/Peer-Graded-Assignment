{
 "cells": [
  {
   "cell_type": "markdown",
   "id": "914a4d45-8509-40e7-97d1-f0426cbf2543",
   "metadata": {},
   "source": [
    "# Data Science Tools and Ecosystem"
   ]
  },
  {
   "cell_type": "markdown",
   "id": "70574769-9a47-49c7-b393-2dd5226888f6",
   "metadata": {},
   "source": [
    "In this notebook, Data Science Tools and Ecosystem are summarized."
   ]
  },
  {
   "cell_type": "markdown",
   "id": "5883cdf7-d2dd-4c96-b98d-0cc31685e4e7",
   "metadata": {},
   "source": [
    "**Objectives:**\n",
    "* List of popular languages for Data Science\n",
    "* List of commonly used libraries used by Data Scientists\n",
    "* Code examples"
   ]
  },
  {
   "cell_type": "markdown",
   "id": "b682d4b6-6925-4498-9a74-04337450dc60",
   "metadata": {},
   "source": [
    "Some of the popular languages that Data Scientists use are:\n",
    "1. Python\n",
    "2. R\n",
    "3. SQL"
   ]
  },
  {
   "cell_type": "markdown",
   "id": "7e86f7c5-1232-4975-a3eb-ac4f95f59bc9",
   "metadata": {},
   "source": [
    "Some of the commonly used libraries used by Data Scientists include:\n",
    "1. NumPy\n",
    "2. Pandas\n",
    "3. SciPy"
   ]
  },
  {
   "cell_type": "markdown",
   "id": "723c42d2-2e44-4dd7-a59f-976e482c7c10",
   "metadata": {},
   "source": [
    "<tr>\n",
    "<th><Data Science Tools></th>\n",
    "<td><Jupiter Notebooks></td>\n",
    "<td><R Studio></td>\n",
    "<td><ML Flow></td>\n",
    "</tr>"
   ]
  },
  {
   "cell_type": "markdown",
   "id": "6293fdfd-62a6-41bc-8845-0bf172a40bdb",
   "metadata": {},
   "source": [
    "|Data Science Tools|\n",
    "|---|\n",
    "|Jupiter Notebooks|\n",
    "|ML Flow|\n",
    "|TensorFlow|\n",
    "|R Studio|"
   ]
  },
  {
   "cell_type": "markdown",
   "id": "197996ae-87f3-45a7-98e1-e02d51624f38",
   "metadata": {},
   "source": [
    "### Below are a few examples of evaluating arithmetic expressions in Python."
   ]
  },
  {
   "cell_type": "code",
   "execution_count": 6,
   "id": "53eb38e4-e3e1-4fa5-915c-b1a9702b103c",
   "metadata": {},
   "outputs": [
    {
     "data": {
      "text/plain": [
       "17"
      ]
     },
     "execution_count": 6,
     "metadata": {},
     "output_type": "execute_result"
    }
   ],
   "source": [
    "#This a simple arithmetic expression to mutiply then add integers.\n",
    "(3*4)+5"
   ]
  },
  {
   "cell_type": "code",
   "execution_count": 3,
   "id": "99c84c18-1490-4089-916e-5a800bb18e86",
   "metadata": {},
   "outputs": [
    {
     "name": "stdout",
     "output_type": "stream",
     "text": [
      "3:20\n"
     ]
    }
   ],
   "source": [
    "#This will convert 200 minutes to hours by diving by 60\n",
    "def convert(minutes):\n",
    "    hour, min = divmod(minutes, 60)\n",
    "    return '%d:%02d' % (hour, min)\n",
    "     \n",
    "# Driver program\n",
    "n = 200\n",
    "print(convert(n))"
   ]
  },
  {
   "cell_type": "markdown",
   "id": "f306aac6-27ca-4270-864d-ba1da64d29af",
   "metadata": {},
   "source": [
    "## Author\n",
    "Olivia Njinjoh"
   ]
  },
  {
   "cell_type": "code",
   "execution_count": null,
   "id": "26b5c327-6882-4084-8729-97bdb99e9081",
   "metadata": {},
   "outputs": [],
   "source": []
  }
 ],
 "metadata": {
  "kernelspec": {
   "display_name": "Python",
   "language": "python",
   "name": "conda-env-python-py"
  },
  "language_info": {
   "codemirror_mode": {
    "name": "ipython",
    "version": 3
   },
   "file_extension": ".py",
   "mimetype": "text/x-python",
   "name": "python",
   "nbconvert_exporter": "python",
   "pygments_lexer": "ipython3",
   "version": "3.7.12"
  }
 },
 "nbformat": 4,
 "nbformat_minor": 5
}
